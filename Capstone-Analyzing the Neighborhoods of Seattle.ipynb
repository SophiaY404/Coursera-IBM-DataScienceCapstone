{
 "cells": [
  {
   "cell_type": "markdown",
   "metadata": {},
   "source": [
    "# Applied Data Science Capstone- Battle of the Neighborhoods\n",
    "## Analyzing the Neighborhoods of King County, Washington\n",
    "\n",
    "### Introduction/ Business Problem:\n",
    "\n",
    "With a virus infecting the planet, most jobs have gone remote, thus giving people an option to move farther away from the office. We have seen a trend where people are moving away from expensive big cities to the suburbs or even to other states where there is no income tax, such as Washington and Texas. \n",
    "\n",
    "I am currently living in Pleasanton, California, which is to the east of San Francisco Bay Area. I enjoy living here because of the proximity to a variety of grocery stores, international cuisine, and easy access to public transportation. It also has a low crime rate. But it's also very expensive to live here. So, I'd like to move to King County in the state of Washington, USA but I'd like to live in a comparable neighborhood to where I am now. \n",
    "\n",
    "The aim of the project is to apply the skills learned in the Coursera course to find the safest neighborhood in King County, that is close to a rail station and surrounded by amenities similar to the ones in my current location. This will be determined by analyzing the number of crimes per neighborhood, exploring the top common venues in the safest neighborhoods, clustering neighborhoods using K-means clustering, and plotting these neighborhoods next to the closet rail stations. \n",
    "\n",
    "This exercise may also be of interest to anyone living in an expensive city looking to move to Seattle/ King County. By segmenting and clustering neighborhoods in King County, we can determine the one we most want to live in.\n",
    "\n",
    "The challenge is to find a neighborhood that offers similar characteristics and benefits to my current place of living. This includes the following conditions:\n",
    "- low crime rate\n",
    "- neighborhood is located within 5 miles from a subway/rail/metro station in Seattle\n",
    "- neighborhood has venues and amenities similar to the ones I enjoy now in my current location\n",
    "\n",
    "### Data\n",
    "\n",
    "One of the data sets we will need is a list of rail stations and their addresses in Seattle. We will also need a dataset with the crime incidents in King County. By using Foursquare, we can explore the top 10 common venues in the safest neighborhoods by street, as well as the amenities in my current location in Pleasanton, California.\n",
    "\n",
    "The following administrative data is collected about King County:\n",
    "* City\n",
    "* Neighborhood\n",
    "* Centroid coordinates (Latitude)\n",
    "* Centroid coordinates (Longitude)\n",
    "* Zipcodes\n",
    "\n",
    "The following data is needed about rail stations in King County:\n",
    "* Name of station\n",
    "* Address\n",
    "* Latitude\n",
    "* Longitude\n",
    "\n",
    "The following data is needed about crime statistics in King County:\n",
    "* Category type of crime\n",
    "* Address\n",
    "* City\n",
    "* Zipcode\n",
    "\n",
    "The following data will be called from the Foursquare API:\n",
    "* Country\n",
    "* City\n",
    "* Name of venue\n",
    "* Address\n",
    "* Latitude\n",
    "* Longitude\n",
    "* Type of venue"
   ]
  },
  {
   "cell_type": "code",
   "execution_count": null,
   "metadata": {},
   "outputs": [],
   "source": []
  }
 ],
 "metadata": {
  "kernelspec": {
   "display_name": "Python 3",
   "language": "python",
   "name": "python3"
  },
  "language_info": {
   "codemirror_mode": {
    "name": "ipython",
    "version": 3
   },
   "file_extension": ".py",
   "mimetype": "text/x-python",
   "name": "python",
   "nbconvert_exporter": "python",
   "pygments_lexer": "ipython3",
   "version": "3.7.3"
  }
 },
 "nbformat": 4,
 "nbformat_minor": 4
}
